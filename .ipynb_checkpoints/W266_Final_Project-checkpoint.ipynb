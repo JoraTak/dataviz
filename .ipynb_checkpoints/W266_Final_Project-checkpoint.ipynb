{
 "cells": [
  {
   "cell_type": "code",
   "execution_count": 209,
   "metadata": {},
   "outputs": [],
   "source": [
    "from __future__ import absolute_import\n",
    "from __future__ import print_function\n",
    "from __future__ import division\n",
    "\n",
    "import json, os, re, shutil, sys, time\n",
    "from importlib import reload\n",
    "import collections, itertools\n",
    "import unittest\n",
    "from IPython.display import display, HTML\n",
    "\n",
    "# NLTK for NLP utils and corpora\n",
    "import nltk\n",
    "\n",
    "# Pandas NumPy and TensorFlow\n",
    "import pandas as pd\n",
    "import numpy as np\n",
    "import tensorflow as tf\n",
    "assert(tf.__version__.startswith(\"1.\"))\n",
    "\n",
    "# Helper libraries\n",
    "from utils import utils_proj, vocabulary\n",
    "\n",
    "from sklearn.model_selection import train_test_split\n",
    "\n",
    "import lstm; reload(lstm)\n",
    "import matplotlib.pyplot as plt\n",
    "% matplotlib inline"
   ]
  },
  {
   "cell_type": "code",
   "execution_count": 210,
   "metadata": {},
   "outputs": [],
   "source": [
    "names = ['timestamp','date','query','handle','message']\n",
    "df = pd.read_csv('../sentiment140.csv',encoding='Latin1',names=names)\n",
    "df['sentiment'] = df.index\n",
    "#Instead of positive being 4 make positive 1\n",
    "df.loc[df['sentiment'] == 4,'sentiment']=1\n"
   ]
  },
  {
   "cell_type": "code",
   "execution_count": 211,
   "metadata": {},
   "outputs": [
    {
     "data": {
      "text/html": [
       "<div>\n",
       "<style scoped>\n",
       "    .dataframe tbody tr th:only-of-type {\n",
       "        vertical-align: middle;\n",
       "    }\n",
       "\n",
       "    .dataframe tbody tr th {\n",
       "        vertical-align: top;\n",
       "    }\n",
       "\n",
       "    .dataframe thead th {\n",
       "        text-align: right;\n",
       "    }\n",
       "</style>\n",
       "<table border=\"1\" class=\"dataframe\">\n",
       "  <thead>\n",
       "    <tr style=\"text-align: right;\">\n",
       "      <th></th>\n",
       "      <th>timestamp</th>\n",
       "      <th>date</th>\n",
       "      <th>query</th>\n",
       "      <th>handle</th>\n",
       "      <th>message</th>\n",
       "      <th>sentiment</th>\n",
       "    </tr>\n",
       "  </thead>\n",
       "  <tbody>\n",
       "    <tr>\n",
       "      <th>0</th>\n",
       "      <td>1467810369</td>\n",
       "      <td>Mon Apr 06 22:19:45 PDT 2009</td>\n",
       "      <td>NO_QUERY</td>\n",
       "      <td>_TheSpecialOne_</td>\n",
       "      <td>@switchfoot http://twitpic.com/2y1zl - Awww, t...</td>\n",
       "      <td>0</td>\n",
       "    </tr>\n",
       "    <tr>\n",
       "      <th>0</th>\n",
       "      <td>1467810672</td>\n",
       "      <td>Mon Apr 06 22:19:49 PDT 2009</td>\n",
       "      <td>NO_QUERY</td>\n",
       "      <td>scotthamilton</td>\n",
       "      <td>is upset that he can't update his Facebook by ...</td>\n",
       "      <td>0</td>\n",
       "    </tr>\n",
       "    <tr>\n",
       "      <th>0</th>\n",
       "      <td>1467810917</td>\n",
       "      <td>Mon Apr 06 22:19:53 PDT 2009</td>\n",
       "      <td>NO_QUERY</td>\n",
       "      <td>mattycus</td>\n",
       "      <td>@Kenichan I dived many times for the ball. Man...</td>\n",
       "      <td>0</td>\n",
       "    </tr>\n",
       "    <tr>\n",
       "      <th>0</th>\n",
       "      <td>1467811184</td>\n",
       "      <td>Mon Apr 06 22:19:57 PDT 2009</td>\n",
       "      <td>NO_QUERY</td>\n",
       "      <td>ElleCTF</td>\n",
       "      <td>my whole body feels itchy and like its on fire</td>\n",
       "      <td>0</td>\n",
       "    </tr>\n",
       "    <tr>\n",
       "      <th>0</th>\n",
       "      <td>1467811193</td>\n",
       "      <td>Mon Apr 06 22:19:57 PDT 2009</td>\n",
       "      <td>NO_QUERY</td>\n",
       "      <td>Karoli</td>\n",
       "      <td>@nationwideclass no, it's not behaving at all....</td>\n",
       "      <td>0</td>\n",
       "    </tr>\n",
       "  </tbody>\n",
       "</table>\n",
       "</div>"
      ],
      "text/plain": [
       "    timestamp                          date     query           handle  \\\n",
       "0  1467810369  Mon Apr 06 22:19:45 PDT 2009  NO_QUERY  _TheSpecialOne_   \n",
       "0  1467810672  Mon Apr 06 22:19:49 PDT 2009  NO_QUERY    scotthamilton   \n",
       "0  1467810917  Mon Apr 06 22:19:53 PDT 2009  NO_QUERY         mattycus   \n",
       "0  1467811184  Mon Apr 06 22:19:57 PDT 2009  NO_QUERY          ElleCTF   \n",
       "0  1467811193  Mon Apr 06 22:19:57 PDT 2009  NO_QUERY           Karoli   \n",
       "\n",
       "                                             message  sentiment  \n",
       "0  @switchfoot http://twitpic.com/2y1zl - Awww, t...          0  \n",
       "0  is upset that he can't update his Facebook by ...          0  \n",
       "0  @Kenichan I dived many times for the ball. Man...          0  \n",
       "0    my whole body feels itchy and like its on fire           0  \n",
       "0  @nationwideclass no, it's not behaving at all....          0  "
      ]
     },
     "execution_count": 211,
     "metadata": {},
     "output_type": "execute_result"
    }
   ],
   "source": [
    "df.head()"
   ]
  },
  {
   "cell_type": "code",
   "execution_count": 212,
   "metadata": {},
   "outputs": [
    {
     "name": "stdout",
     "output_type": "stream",
     "text": [
      "Vocabulary: 10,000 types\n"
     ]
    }
   ],
   "source": [
    "#Just use 1000 rows while developing the code, full set takes too long\n",
    "df1 = df.sample(10000)\n",
    "x_data = df1['message'].tolist()\n",
    "y_data = df1['sentiment'].tolist()\n",
    "\n",
    "#build the vocab\n",
    "x_data = [i.split() for i in x_data]\n",
    "flat_list = [item for sublist in x_data for item in sublist]\n",
    "vocab = utils_proj.build_vocab(flat_list)\n"
   ]
  },
  {
   "cell_type": "code",
   "execution_count": 213,
   "metadata": {},
   "outputs": [
    {
     "name": "stdout",
     "output_type": "stream",
     "text": [
      "34\n"
     ]
    }
   ],
   "source": [
    "#Determine the length of the longest tweet\n",
    "max_val=0\n",
    "for i in x_data:\n",
    "    if len(i) > max_val:\n",
    "        max_val = len(i)\n",
    "print(max_val)"
   ]
  },
  {
   "cell_type": "code",
   "execution_count": 214,
   "metadata": {},
   "outputs": [],
   "source": [
    "max_time=40\n",
    "#canonicalize sentences, convert to ids, pad to consistant length of 100\n",
    "x_ids = []\n",
    "for tweet in x_data:\n",
    "    temp = utils_proj.preprocess_sentences([tweet],vocab)\n",
    "    x_ids.append(\n",
    "        np.pad(utils_proj.preprocess_sentences([tweet],vocab),(max_time-2-len(tweet),0),'constant').tolist()) "
   ]
  },
  {
   "cell_type": "code",
   "execution_count": 215,
   "metadata": {},
   "outputs": [],
   "source": [
    "#Split into 70% train, 15% dev, 15% test\n",
    "\n",
    "def train_test_dev(x,y,train_pct=.8,test_pct=.1,random_state=1):\n",
    "    #Split into train and test\n",
    "    X_train, X_test, y_train, y_test = (\n",
    "        train_test_split(x, y, test_size=round(1-train_pct,1), random_state=random_state))\n",
    "    #split test into dev and test\n",
    "    X_dev, X_test, y_dev, y_test = (\n",
    "        train_test_split(X_test, y_test, test_size=test_pct/(1-train_pct), random_state=random_state))\n",
    "    \n",
    "    return np.asarray(X_train),np.asarray(X_dev),np.asarray(X_test),np.asarray(y_train),np.asarray(y_dev),np.asarray(y_test)\n",
    "\n",
    "\n",
    "X_train,X_dev,X_test,y_train,y_dev,y_test = train_test_dev(x_ids,y_data,.7,.15)"
   ]
  },
  {
   "cell_type": "code",
   "execution_count": 216,
   "metadata": {},
   "outputs": [],
   "source": [
    "def run_epoch(lm, session, batch_iterator,\n",
    "              train=False, verbose=False,\n",
    "              tick_s=10, learning_rate=None):\n",
    "    assert(learning_rate is not None)\n",
    "    start_time = time.time()\n",
    "    tick_time = start_time  # for showing status\n",
    "    total_cost = 0.0  # total cost, summed over all words\n",
    "    total_batches = 0\n",
    "    total_tweets = 0\n",
    "    \n",
    "    if train:\n",
    "        train_op = lm.optimizer_\n",
    "        use_dropout = True\n",
    "        loss = lm.train_loss_\n",
    "    else:\n",
    "        train_op = tf.no_op()\n",
    "        use_dropout = False  # no dropout at test time\n",
    "        loss = lm.train_loss_  # true loss, if train_loss is an approximation\n",
    "        \n",
    "    val_acc = []\n",
    "    y_true = []\n",
    "    y_pred = []\n",
    "    for i, (w, y) in enumerate(batch_iterator):\n",
    "        # At first batch in epoch, get a clean intitial state.\n",
    "        \n",
    "        y_true.append(y)\n",
    "        if i == 0:\n",
    "            h = session.run(lm.initial_h_, {lm.input_w_: w})\n",
    "        feed_dict = {\n",
    "            lm.input_w_: w,\n",
    "            lm.target_y_: y,\n",
    "            lm.initial_h_: h,\n",
    "            lm.learning_rate_: learning_rate,\n",
    "\n",
    "        }\n",
    "        ops = [loss, lm.final_h_, train_op,lm.accuracy_,lm.predictions_]        \n",
    "        # session.run(...) the ops with the feed_dict constructed above.\n",
    "        # Ensure \"cost\" becomes the value of \"loss\".\n",
    "        # Hint: see \"ops\" for other variables that need updating in this loop.\n",
    "        cost,h,_,batch_acc,preds = session.run(ops,feed_dict=feed_dict)\n",
    "        \n",
    "        y_pred.append(preds)\n",
    "        val_acc.append(batch_acc)\n",
    "        total_cost += cost\n",
    "        total_batches = i + 1\n",
    "        total_tweets += w.shape[0]  \n",
    "\n",
    "        ##\n",
    "        # Print average loss-so-far for epoch\n",
    "        # If using train_loss_, this may be an underestimate.\n",
    "        if verbose and (time.time() - tick_time >= tick_s):\n",
    "            avg_cost = total_cost / total_batches\n",
    "            avg_tps = total_tweets / (time.time() - start_time)\n",
    "            print(\"[batch {:d}]: seen {:d} tweets at {:.1f} tps, cost = {:.3f}\".format(\n",
    "                i, total_tweets, avg_tps, avg_cost))\n",
    "            tick_time = time.time()  # reset time ticker\n",
    "    if train:\n",
    "        return total_cost / total_batches,val_acc\n",
    "    else:\n",
    "        return total_cost / total_batches, val_acc,y_true,y_pred"
   ]
  },
  {
   "cell_type": "code",
   "execution_count": 217,
   "metadata": {},
   "outputs": [],
   "source": [
    "def score_dataset(lm, session,ids,labels, name=\"Data\"):\n",
    "    # For scoring, we can use larger batches to speed things up.\n",
    "    bi = utils_proj.rnnlm_batch_generator(ids, 100, 100,labels)\n",
    "    cost,logits = run_epoch(lm, session, bi, \n",
    "                     learning_rate=0.0, train=False, \n",
    "                     verbose=False, tick_s=3600)\n",
    "    print(\"{:s}: avg. loss: {:.03f}  (perplexity: {:.02f})\".format(name, cost, np.exp(cost)))\n",
    "    return cost"
   ]
  },
  {
   "cell_type": "code",
   "execution_count": 294,
   "metadata": {},
   "outputs": [],
   "source": [
    "# Training parameters\n",
    "max_time = max_time\n",
    "batch_size = 1000\n",
    "learning_rate = 0.01\n",
    "num_epochs = 5\n",
    "\n",
    "# Model parameters\n",
    "model_params = dict(V=vocab.size, \n",
    "                    H=50, \n",
    "                    softmax_ns=200,\n",
    "                    num_layers=2,\n",
    "                    num_classes=1)\n",
    "\n",
    "#TF_GRAPHDIR = \"/tmp/w266/a3_graph\"\n",
    "summary_writer = tf.summary.FileWriter(TF_GRAPHDIR, lm.graph)\n",
    "TF_SAVEDIR = \"/tmp/w266/a3_model\"\n",
    "\n",
    "checkpoint_filename = os.path.join(TF_SAVEDIR, \"rnnlm\")\n",
    "trained_filename = os.path.join(TF_SAVEDIR, \"rnnlm_trained\")"
   ]
  },
  {
   "cell_type": "code",
   "execution_count": 295,
   "metadata": {},
   "outputs": [
    {
     "name": "stdout",
     "output_type": "stream",
     "text": [
      "[batch 2]: seen 3000 tweets at 2409.1 tps, cost = 0.247\n",
      "[batch 5]: seen 6000 tweets at 2537.6 tps, cost = 0.245\n",
      "[epoch 1] Completed in 0:00:02\n",
      "[batch 2]: seen 3000 tweets at 2766.1 tps, cost = 0.218\n",
      "[batch 5]: seen 6000 tweets at 2772.5 tps, cost = 0.213\n",
      "[epoch 2] Completed in 0:00:02\n",
      "[batch 2]: seen 3000 tweets at 2772.6 tps, cost = 0.181\n",
      "[batch 5]: seen 6000 tweets at 2749.9 tps, cost = 0.172\n",
      "[epoch 3] Completed in 0:00:02\n",
      "[batch 2]: seen 3000 tweets at 2792.3 tps, cost = 0.138\n",
      "[batch 5]: seen 6000 tweets at 2808.5 tps, cost = 0.129\n",
      "[epoch 4] Completed in 0:00:02\n",
      "[batch 2]: seen 3000 tweets at 2812.7 tps, cost = 0.111\n",
      "[batch 5]: seen 6000 tweets at 2774.9 tps, cost = 0.101\n",
      "[epoch 5] Completed in 0:00:02\n"
     ]
    }
   ],
   "source": [
    "# Will print status every this many seconds\n",
    "reload(lstm)\n",
    "reload(utils_proj)\n",
    "print_interval = 5\n",
    "\n",
    "lm = lstm.RNNLM(**model_params)\n",
    "lm.BuildCoreGraph()\n",
    "lm.BuildTrainGraph()\n",
    "\n",
    "# Explicitly add global initializer and variable saver to LM graph\n",
    "with lm.graph.as_default():\n",
    "    initializer = tf.global_variables_initializer()\n",
    "    saver = tf.train.Saver()\n",
    "    \n",
    "# Clear old log directory\n",
    "shutil.rmtree(TF_SAVEDIR, ignore_errors=True)\n",
    "if not os.path.isdir(TF_SAVEDIR):\n",
    "    os.makedirs(TF_SAVEDIR)\n",
    "\n",
    "with tf.Session(graph=lm.graph) as session:\n",
    "    # Seed RNG for repeatability\n",
    "    tf.set_random_seed(42)\n",
    "\n",
    "    session.run(initializer)\n",
    "    \n",
    "    \n",
    "    for epoch in range(1,num_epochs+1):\n",
    "        t0_epoch = time.time()\n",
    "        bi = utils_proj.rnnlm_batch_generator(X_train, batch_size, max_time,y_train)\n",
    "\n",
    "        cost,val_acc = run_epoch(lm, session, bi,True,\n",
    "                  True,1.0,learning_rate)\n",
    "        \n",
    "        #### END(YOUR CODE) ####\n",
    "        print(\"[epoch {:d}] Completed in {:s}\".format(epoch, utils_proj.pretty_timedelta(since=t0_epoch)))\n",
    "    \n",
    "        # Save a checkpointls \n",
    "        saver.save(session, checkpoint_filename, global_step=epoch)\n",
    "    \n",
    "    saver.save(session, trained_filename)"
   ]
  },
  {
   "cell_type": "code",
   "execution_count": 296,
   "metadata": {},
   "outputs": [
    {
     "name": "stdout",
     "output_type": "stream",
     "text": [
      "INFO:tensorflow:Restoring parameters from /tmp/w266/a3_model/rnnlm_trained\n",
      "[epoch 1] Starting epoch 1\n",
      "[epoch 1] Completed in 0:00:00\n",
      "[epoch 1] Completed in 0:00:00\n",
      "[epoch 1] Completed in 0:00:00\n",
      "[epoch 1] Completed in 0:00:00\n",
      "[epoch 1] Completed in 0:00:00\n",
      "[epoch 1] Completed in 0:00:00\n",
      "[epoch 1] Completed in 0:00:00\n",
      "[epoch 1] Completed in 0:00:00\n",
      "[epoch 1] Completed in 0:00:00\n",
      "[epoch 1] Completed in 0:00:00\n",
      "[epoch 1] Completed in 0:00:00\n",
      "[epoch 1] Completed in 0:00:00\n",
      "[epoch 1] Completed in 0:00:00\n",
      "[epoch 1] Completed in 0:00:00\n",
      "[epoch 1] Completed in 0:00:00\n",
      "[epoch 1] Completed in 0:00:00\n",
      "[epoch 1] Completed in 0:00:00\n",
      "[epoch 1] Completed in 0:00:00\n",
      "[epoch 1] Completed in 0:00:00\n",
      "[epoch 1] Completed in 0:00:00\n",
      "[epoch 1] Completed in 0:00:00\n",
      "[epoch 1] Completed in 0:00:00\n",
      "[epoch 1] Completed in 0:00:00\n",
      "[epoch 1] Completed in 0:00:00\n",
      "[epoch 1] Completed in 0:00:00\n",
      "[epoch 1] Completed in 0:00:00\n",
      "[epoch 1] Completed in 0:00:00\n",
      "[epoch 1] Completed in 0:00:00\n",
      "[epoch 1] Completed in 0:00:00\n",
      "[epoch 1] Completed in 0:00:00\n",
      "[epoch 1] Completed in 0:00:00\n",
      "[epoch 1] Completed in 0:00:00\n",
      "[epoch 1] Completed in 0:00:00\n",
      "[epoch 1] Completed in 0:00:00\n",
      "[epoch 1] Completed in 0:00:00\n",
      "[epoch 1] Completed in 0:00:00\n",
      "[epoch 1] Completed in 0:00:00\n",
      "[epoch 1] Completed in 0:00:00\n",
      "[epoch 1] Completed in 0:00:00\n",
      "[epoch 1] Completed in 0:00:00\n",
      "[epoch 1] Completed in 0:00:00\n",
      "[epoch 1] Completed in 0:00:00\n",
      "[epoch 1] Completed in 0:00:00\n",
      "[epoch 1] Completed in 0:00:00\n",
      "[epoch 1] Completed in 0:00:00\n",
      "[epoch 1] Completed in 0:00:00\n",
      "[epoch 1] Completed in 0:00:00\n",
      "[epoch 1] Completed in 0:00:00\n",
      "[epoch 1] Completed in 0:00:01\n",
      "[epoch 1] Completed in 0:00:01\n",
      "[epoch 1] Completed in 0:00:01\n",
      "[epoch 1] Completed in 0:00:01\n",
      "[epoch 1] Completed in 0:00:01\n",
      "[epoch 1] Completed in 0:00:01\n",
      "[epoch 1] Completed in 0:00:01\n",
      "[epoch 1] Completed in 0:00:01\n",
      "[epoch 1] Completed in 0:00:01\n",
      "[epoch 1] Completed in 0:00:01\n",
      "[epoch 1] Completed in 0:00:01\n",
      "[epoch 1] Completed in 0:00:01\n",
      "[epoch 1] Completed in 0:00:01\n",
      "[epoch 1] Completed in 0:00:01\n",
      "[epoch 1] Completed in 0:00:01\n",
      "[epoch 1] Completed in 0:00:01\n",
      "[epoch 1] Completed in 0:00:01\n",
      "[epoch 1] Completed in 0:00:01\n",
      "[epoch 1] Completed in 0:00:01\n",
      "[epoch 1] Completed in 0:00:01\n",
      "[epoch 1] Completed in 0:00:01\n",
      "[epoch 1] Completed in 0:00:01\n",
      "0.93\n"
     ]
    }
   ],
   "source": [
    "# Testingg parameters\n",
    "max_time = max_time\n",
    "batch_size = 100\n",
    "learning_rate = 0.00\n",
    "num_epochs = 1\n",
    "reload(lstm)\n",
    "# Will print status every this many seconds\n",
    "print_interval = 5\n",
    "\n",
    "lm = lstm.RNNLM(**model_params)\n",
    "lm.BuildCoreGraph()\n",
    "lm.BuildTrainGraph()\n",
    "\n",
    "with lm.graph.as_default():\n",
    "    saver = tf.train.Saver()\n",
    "\n",
    "y_pred=[]\n",
    "y_true=[]\n",
    "val_acc=[]\n",
    "num_equals=[]\n",
    "    \n",
    "with tf.Session(graph=lm.graph) as session:\n",
    "    saver.restore(session, trained_filename)\n",
    "    \n",
    "    for epoch in range(1,num_epochs+1):\n",
    "        t0_epoch = time.time()\n",
    "        bi = utils_proj.rnnlm_batch_generator(X_dev, batch_size, max_time,y_dev)\n",
    "        print(\"[epoch {:d}] Starting epoch {:d}\".format(epoch, epoch))\n",
    "        # Run a training epoch.\n",
    "        \n",
    "        \n",
    "        for i, (w, y) in enumerate(bi):\n",
    "            # At first batch in epoch, get a clean intitial state.\n",
    "\n",
    "            y_true.append(y)\n",
    "            if i == 0:\n",
    "                h = session.run(lm.initial_h_, {lm.input_w_: w})\n",
    "            feed_dict = {\n",
    "                lm.input_w_: w,\n",
    "                lm.target_y_: y,\n",
    "                lm.initial_h_: h,\n",
    "\n",
    "\n",
    "            }\n",
    "            ops = [lm.final_h_, lm.accuracy_,lm.predictions_,lm.num_equal_]        \n",
    "            # session.run(...) the ops with the feed_dict constructed above.\n",
    "            # Ensure \"cost\" becomes the value of \"loss\".\n",
    "            # Hint: see \"ops\" for other variables that need updating in this loop.\n",
    "            h,batch_acc,preds,num_equal = session.run(ops,feed_dict=feed_dict)\n",
    "\n",
    "            val_acc.append(batch_acc)\n",
    "            num_equals.append(num_equal)\n",
    "\n",
    "    #        cost,val_acc,true,pred = run_epoch(lm, session, bi,False,\n",
    "    #                  True,1.0,learning_rate)\n",
    "\n",
    "            \n",
    "            y_pred.append(preds)\n",
    "\n",
    "            print(\"[epoch {:d}] Completed in {:s}\".format(epoch, utils_proj.pretty_timedelta(since=t0_epoch)))\n",
    "   \n",
    "        print(batch_acc)\n"
   ]
  },
  {
   "cell_type": "code",
   "execution_count": 297,
   "metadata": {
    "scrolled": true
   },
   "outputs": [
    {
     "name": "stdout",
     "output_type": "stream",
     "text": [
      "Accuracy : 0.89\n"
     ]
    },
    {
     "data": {
      "text/plain": [
       "Text(0.5,1,'Correct Predictions')"
      ]
     },
     "execution_count": 297,
     "metadata": {},
     "output_type": "execute_result"
    },
    {
     "data": {
      "image/png": "[encoded data removed]",
      "text/plain": [
       "<Figure size 432x288 with 1 Axes>"
      ]
     },
     "metadata": {},
     "output_type": "display_data"
    }
   ],
   "source": [
    "print('Accuracy :',round(np.mean(val_acc),2))\n",
    "\n",
    "plt.hist(np.asarray(num_equals).flatten())\n",
    "plt.title('Correct Predictions')"
   ]
  },
  {
   "cell_type": "code",
   "execution_count": 298,
   "metadata": {},
   "outputs": [
    {
     "name": "stdout",
     "output_type": "stream",
     "text": [
      "(100, 1)\n"
     ]
    }
   ],
   "source": [
    "print(num_equal.shape)"
   ]
  },
  {
   "cell_type": "code",
   "execution_count": 299,
   "metadata": {},
   "outputs": [
    {
     "data": {
      "text/plain": [
       "(array([ 488.,    0.,    0.,    0.,    0., 6249.,    0.,    0.,    0.,\n",
       "         263.]),\n",
       " array([-1. , -0.8, -0.6, -0.4, -0.2,  0. ,  0.2,  0.4,  0.6,  0.8,  1. ]),\n",
       " <a list of 10 Patch objects>)"
      ]
     },
     "execution_count": 299,
     "metadata": {},
     "output_type": "execute_result"
    },
    {
     "data": {
      "image/png": "[encoded data removed]",
      "text/plain": [
       "<Figure size 432x288 with 1 Axes>"
      ]
     },
     "metadata": {},
     "output_type": "display_data"
    }
   ],
   "source": [
    "plt.hist(np.round(y_pred).flatten()-np.asarray(y_true).flatten())"
   ]
  },
  {
   "cell_type": "code",
   "execution_count": 300,
   "metadata": {},
   "outputs": [
    {
     "data": {
      "text/plain": [
       "(array([3801.,    0.,    0.,    0.,    0.,    0.,    0.,    0.,    0.,\n",
       "        3199.]),\n",
       " array([0. , 0.1, 0.2, 0.3, 0.4, 0.5, 0.6, 0.7, 0.8, 0.9, 1. ]),\n",
       " <a list of 10 Patch objects>)"
      ]
     },
     "execution_count": 300,
     "metadata": {},
     "output_type": "execute_result"
    },
    {
     "data": {
      "image/png": "[encoded data removed]",
      "text/plain": [
       "<Figure size 432x288 with 1 Axes>"
      ]
     },
     "metadata": {},
     "output_type": "display_data"
    }
   ],
   "source": [
    "plt.hist(np.round(y_pred).flatten())"
   ]
  },
  {
   "cell_type": "code",
   "execution_count": 301,
   "metadata": {},
   "outputs": [
    {
     "name": "stdout",
     "output_type": "stream",
     "text": [
      "7000\n"
     ]
    }
   ],
   "source": [
    "print(len(np.asarray(y_true).flatten()))"
   ]
  },
  {
   "cell_type": "code",
   "execution_count": null,
   "metadata": {},
   "outputs": [],
   "source": []
  }
 ],
 "metadata": {
  "kernelspec": {
   "display_name": "Python 3",
   "language": "python",
   "name": "python3"
  },
  "language_info": {
   "codemirror_mode": {
    "name": "ipython",
    "version": 3
   },
   "file_extension": ".py",
   "mimetype": "text/x-python",
   "name": "python",
   "nbconvert_exporter": "python",
   "pygments_lexer": "ipython3",
   "version": "3.6.5"
  }
 },
 "nbformat": 4,
 "nbformat_minor": 2
}
